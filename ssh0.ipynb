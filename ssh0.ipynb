{
  "cells": [
    {
      "cell_type": "code",
      "execution_count": null,
      "metadata": {
        "colab": {
          "base_uri": "https://localhost:8080/"
        },
        "id": "aVgbM168O3Vv",
        "outputId": "0c7d1d97-55fb-4715-8c13-3718099f20b0",
        "collapsed": true
      },
      "outputs": [
        {
          "output_type": "stream",
          "name": "stdout",
          "text": [
            "Get:1 https://cloud.r-project.org/bin/linux/ubuntu jammy-cran40/ InRelease [3,626 B]\n",
            "Get:2 https://developer.download.nvidia.com/compute/cuda/repos/ubuntu2204/x86_64  InRelease [1,581 B]\n",
            "Hit:3 http://archive.ubuntu.com/ubuntu jammy InRelease\n",
            "Get:4 http://security.ubuntu.com/ubuntu jammy-security InRelease [129 kB]\n",
            "Get:5 http://archive.ubuntu.com/ubuntu jammy-updates InRelease [128 kB]\n",
            "Get:6 https://developer.download.nvidia.com/compute/cuda/repos/ubuntu2204/x86_64  Packages [908 kB]\n",
            "Ign:7 https://r2u.stat.illinois.edu/ubuntu jammy InRelease\n",
            "Get:8 https://r2u.stat.illinois.edu/ubuntu jammy Release [5,713 B]\n",
            "Get:9 https://ppa.launchpadcontent.net/deadsnakes/ppa/ubuntu jammy InRelease [18.1 kB]\n",
            "Get:10 https://r2u.stat.illinois.edu/ubuntu jammy Release.gpg [793 B]\n",
            "Hit:11 https://ppa.launchpadcontent.net/graphics-drivers/ppa/ubuntu jammy InRelease\n",
            "Hit:12 http://archive.ubuntu.com/ubuntu jammy-backports InRelease\n",
            "Hit:13 https://ppa.launchpadcontent.net/ubuntugis/ppa/ubuntu jammy InRelease\n",
            "Get:14 http://security.ubuntu.com/ubuntu jammy-security/universe amd64 Packages [1,131 kB]\n",
            "Get:15 https://ppa.launchpadcontent.net/deadsnakes/ppa/ubuntu jammy/main amd64 Packages [27.8 kB]\n",
            "Get:16 http://archive.ubuntu.com/ubuntu jammy-updates/universe amd64 Packages [1,421 kB]\n",
            "Get:17 http://security.ubuntu.com/ubuntu jammy-security/restricted amd64 Packages [2,787 kB]\n",
            "Get:18 https://r2u.stat.illinois.edu/ubuntu jammy/main amd64 Packages [2,552 kB]\n",
            "Get:19 http://security.ubuntu.com/ubuntu jammy-security/main amd64 Packages [2,118 kB]\n",
            "Get:20 https://r2u.stat.illinois.edu/ubuntu jammy/main all Packages [8,218 kB]\n",
            "Fetched 19.5 MB in 13s (1,527 kB/s)\n",
            "Reading package lists... Done\n",
            "Building dependency tree... Done\n",
            "Reading state information... Done\n",
            "48 packages can be upgraded. Run 'apt list --upgradable' to see them.\n",
            "\u001b[1;33mW: \u001b[0mSkipping acquire of configured file 'main/source/Sources' as repository 'https://r2u.stat.illinois.edu/ubuntu jammy InRelease' does not seem to provide it (sources.list entry misspelt?)\u001b[0m\n",
            "Reading package lists... Done\n",
            "Building dependency tree... Done\n",
            "Reading state information... Done\n",
            "0 upgraded, 0 newly installed, 0 to remove and 48 not upgraded.\n",
            "Reading package lists... Done\n",
            "Building dependency tree... Done\n",
            "Reading state information... Done\n",
            "The following additional packages will be installed:\n",
            "  libwrap0 ncurses-term openssh-sftp-server ssh-import-id\n",
            "Suggested packages:\n",
            "  molly-guard monkeysphere ssh-askpass ufw\n",
            "The following NEW packages will be installed:\n",
            "  libwrap0 ncurses-term openssh-server openssh-sftp-server ssh-import-id\n",
            "0 upgraded, 5 newly installed, 0 to remove and 48 not upgraded.\n",
            "Need to get 799 kB of archives.\n",
            "After this operation, 6,157 kB of additional disk space will be used.\n",
            "Get:1 http://archive.ubuntu.com/ubuntu jammy-updates/main amd64 openssh-sftp-server amd64 1:8.9p1-3ubuntu0.10 [38.9 kB]\n",
            "Get:2 http://archive.ubuntu.com/ubuntu jammy/main amd64 libwrap0 amd64 7.6.q-31build2 [47.9 kB]\n",
            "Get:3 http://archive.ubuntu.com/ubuntu jammy-updates/main amd64 openssh-server amd64 1:8.9p1-3ubuntu0.10 [435 kB]\n",
            "Get:4 http://archive.ubuntu.com/ubuntu jammy-updates/main amd64 ncurses-term all 6.3-2ubuntu0.1 [267 kB]\n",
            "Get:5 http://archive.ubuntu.com/ubuntu jammy/main amd64 ssh-import-id all 5.11-0ubuntu1 [10.1 kB]\n",
            "Fetched 799 kB in 2s (402 kB/s)\n",
            "debconf: unable to initialize frontend: Dialog\n",
            "debconf: (No usable dialog-like program is installed, so the dialog based frontend cannot be used. at /usr/share/perl5/Debconf/FrontEnd/Dialog.pm line 78, <> line 5.)\n",
            "debconf: falling back to frontend: Readline\n",
            "debconf: unable to initialize frontend: Readline\n",
            "debconf: (This frontend requires a controlling tty.)\n",
            "debconf: falling back to frontend: Teletype\n",
            "dpkg-preconfigure: unable to re-open stdin: \n",
            "Selecting previously unselected package openssh-sftp-server.\n",
            "(Reading database ... 123598 files and directories currently installed.)\n",
            "Preparing to unpack .../openssh-sftp-server_1%3a8.9p1-3ubuntu0.10_amd64.deb ...\n",
            "Unpacking openssh-sftp-server (1:8.9p1-3ubuntu0.10) ...\n",
            "Selecting previously unselected package libwrap0:amd64.\n",
            "Preparing to unpack .../libwrap0_7.6.q-31build2_amd64.deb ...\n",
            "Unpacking libwrap0:amd64 (7.6.q-31build2) ...\n",
            "Selecting previously unselected package openssh-server.\n",
            "Preparing to unpack .../openssh-server_1%3a8.9p1-3ubuntu0.10_amd64.deb ...\n",
            "Unpacking openssh-server (1:8.9p1-3ubuntu0.10) ...\n",
            "Selecting previously unselected package ncurses-term.\n",
            "Preparing to unpack .../ncurses-term_6.3-2ubuntu0.1_all.deb ...\n",
            "Unpacking ncurses-term (6.3-2ubuntu0.1) ...\n",
            "Selecting previously unselected package ssh-import-id.\n",
            "Preparing to unpack .../ssh-import-id_5.11-0ubuntu1_all.deb ...\n",
            "Unpacking ssh-import-id (5.11-0ubuntu1) ...\n",
            "Setting up openssh-sftp-server (1:8.9p1-3ubuntu0.10) ...\n",
            "Setting up ssh-import-id (5.11-0ubuntu1) ...\n",
            "Setting up libwrap0:amd64 (7.6.q-31build2) ...\n",
            "Setting up ncurses-term (6.3-2ubuntu0.1) ...\n",
            "Setting up openssh-server (1:8.9p1-3ubuntu0.10) ...\n",
            "debconf: unable to initialize frontend: Dialog\n",
            "debconf: (No usable dialog-like program is installed, so the dialog based frontend cannot be used. at /usr/share/perl5/Debconf/FrontEnd/Dialog.pm line 78.)\n",
            "debconf: falling back to frontend: Readline\n",
            "\n",
            "Creating config file /etc/ssh/sshd_config with new version\n",
            "Creating SSH2 RSA key; this may take some time ...\n",
            "3072 SHA256:Zzcofok5VccU+hchS1E3oP268Jz7XP1Y5cB0kzWk/rQ root@18e9982615fd (RSA)\n",
            "Creating SSH2 ECDSA key; this may take some time ...\n",
            "256 SHA256:RR8hV5r5UmJ1Wzi1zqZWZ6jOmLVVXQBut4r88pm707E root@18e9982615fd (ECDSA)\n",
            "Creating SSH2 ED25519 key; this may take some time ...\n",
            "256 SHA256:pSPoGxqlKzWaGTUlfA2iCdm+D1aF2SPTyxokUmXI6Yw root@18e9982615fd (ED25519)\n",
            "invoke-rc.d: could not determine current runlevel\n",
            "invoke-rc.d: policy-rc.d denied execution of start.\n",
            "Created symlink /etc/systemd/system/sshd.service → /lib/systemd/system/ssh.service.\n",
            "Created symlink /etc/systemd/system/multi-user.target.wants/ssh.service → /lib/systemd/system/ssh.service.\n",
            "Processing triggers for man-db (2.10.2-1) ...\n",
            "Processing triggers for libc-bin (2.35-0ubuntu3.4) ...\n",
            "/sbin/ldconfig.real: /usr/local/lib/libtbbmalloc_proxy.so.2 is not a symbolic link\n",
            "\n",
            "/sbin/ldconfig.real: /usr/local/lib/libtbbbind_2_5.so.3 is not a symbolic link\n",
            "\n",
            "/sbin/ldconfig.real: /usr/local/lib/libur_adapter_level_zero.so.0 is not a symbolic link\n",
            "\n",
            "/sbin/ldconfig.real: /usr/local/lib/libur_loader.so.0 is not a symbolic link\n",
            "\n",
            "/sbin/ldconfig.real: /usr/local/lib/libtbbbind.so.3 is not a symbolic link\n",
            "\n",
            "/sbin/ldconfig.real: /usr/local/lib/libtbbbind_2_0.so.3 is not a symbolic link\n",
            "\n",
            "/sbin/ldconfig.real: /usr/local/lib/libtbbmalloc.so.2 is not a symbolic link\n",
            "\n",
            "/sbin/ldconfig.real: /usr/local/lib/libtbb.so.12 is not a symbolic link\n",
            "\n",
            "/sbin/ldconfig.real: /usr/local/lib/libur_adapter_opencl.so.0 is not a symbolic link\n",
            "\n",
            "--2024-08-05 05:40:00--  https://raw.githubusercontent.com/xpert0/sshcolab/master/sshd_config\n",
            "Resolving raw.githubusercontent.com (raw.githubusercontent.com)... 185.199.111.133, 185.199.109.133, 185.199.108.133, ...\n",
            "Connecting to raw.githubusercontent.com (raw.githubusercontent.com)|185.199.111.133|:443... connected.\n",
            "HTTP request sent, awaiting response... 200 OK\n",
            "Length: 297 [text/plain]\n",
            "Saving to: ‘sshd_config’\n",
            "\n",
            "sshd_config         100%[===================>]     297  --.-KB/s    in 0s      \n",
            "\n",
            "2024-08-05 05:40:00 (14.3 MB/s) - ‘sshd_config’ saved [297/297]\n",
            "\n"
          ]
        }
      ],
      "source": [
        "!sudo apt update\n",
        "!sudo apt install openssh-server\n",
        "!sudo apt clean\n",
        "!sudo apt autoremove\n",
        "!wget https://raw.githubusercontent.com/xpert0/sshcolab/master/sshd_config\n",
        "!sudo cp sshd_config /etc/ssh/\n",
        "!rm sshd_config"
      ]
    },
    {
      "cell_type": "code",
      "execution_count": null,
      "metadata": {
        "colab": {
          "base_uri": "https://localhost:8080/"
        },
        "id": "EBV9rV7qdmBT",
        "outputId": "36cc323e-4201-4118-bed0-7d9d5dc66763"
      },
      "outputs": [
        {
          "output_type": "stream",
          "name": "stdout",
          "text": [
            "passwd: password expiry information changed.\n",
            " * Restarting OpenBSD Secure Shell server sshd\n",
            "   ...done.\n",
            " * sshd is running\n",
            "Warning: Permanently added 'serveo.net' (RSA) to the list of known hosts.\n",
            "\u001b[32mForwarding SSH traffic from googlex0:22\n",
            "\u001b[0mTo connect from a remote host: ssh -J serveo.net user@googlex0\n"
          ]
        }
      ],
      "source": [
        "!sudo passwd -d root\n",
        "!sudo service ssh restart\n",
        "!sudo service ssh status\n",
        "!ssh -o Stricthostkeychecking=false -R googlex0:22:localhost:9020 serveo.net"
      ]
    },
    {
      "cell_type": "markdown",
      "source": [],
      "metadata": {
        "id": "_MjjCVW-eV4J"
      }
    },
    {
      "cell_type": "markdown",
      "source": [
        "# **Connection to server**\n",
        "\n",
        "To connect to the newly created SSH server, fire up terminal and enter this command\n",
        "\n",
        "```\n",
        "curl https://raw.githubusercontent.com/xpert0/sshcolab/master/ssh0 | bash\n",
        "```"
      ],
      "metadata": {
        "id": "e-yO-TY5fTHM"
      }
    }
  ],
  "metadata": {
    "colab": {
      "provenance": []
    },
    "kernelspec": {
      "display_name": "Python 3",
      "name": "python3"
    },
    "language_info": {
      "name": "python"
    }
  },
  "nbformat": 4,
  "nbformat_minor": 0
}